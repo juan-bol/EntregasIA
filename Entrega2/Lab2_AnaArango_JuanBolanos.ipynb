{
  "nbformat": 4,
  "nbformat_minor": 0,
  "metadata": {
    "colab": {
      "name": "Lab2.ipynb",
      "version": "0.3.2",
      "provenance": [],
      "collapsed_sections": []
    },
    "kernelspec": {
      "name": "python3",
      "display_name": "Python 3"
    }
  },
  "cells": [
    {
      "cell_type": "code",
      "metadata": {
        "id": "SQPZ1D3geVUf",
        "colab_type": "code",
        "colab": {}
      },
      "source": [
        "import pandas as pd\n",
        "import numpy as np\n",
        "from keras.layers import Dense\n",
        "from keras.models import Sequential\n",
        "from keras.optimizers import RMSprop, Adadelta, Adam\n",
        "from sklearn.datasets import load_digits\n",
        "from sklearn.model_selection import train_test_split\n",
        "from sklearn import neighbors, metrics\n",
        "import pylab as pl\n"
      ],
      "execution_count": 0,
      "outputs": []
    },
    {
      "cell_type": "markdown",
      "metadata": {
        "id": "1wKbTs_qlBLl",
        "colab_type": "text"
      },
      "source": [
        "Se carga el data set"
      ]
    },
    {
      "cell_type": "code",
      "metadata": {
        "id": "_qvXXcpJfxSK",
        "colab_type": "code",
        "colab": {}
      },
      "source": [
        "dig = load_digits()"
      ],
      "execution_count": 0,
      "outputs": []
    },
    {
      "cell_type": "markdown",
      "metadata": {
        "id": "Q_z15n6yJQci",
        "colab_type": "text"
      },
      "source": [
        "## Sin aplicación de IA"
      ]
    },
    {
      "cell_type": "code",
      "metadata": {
        "id": "D8gb2mb8Ltis",
        "colab_type": "code",
        "colab": {
          "base_uri": "https://localhost:8080/",
          "height": 439
        },
        "outputId": "296e49fe-6bdf-4415-8007-83feb89013c7"
      },
      "source": [
        "pl.gray() # Queremos las imágenes en grises\n",
        "prueba = [5]\n",
        "for i in prueba:\n",
        "    numero = dig.images[i]\n",
        "    pl.matshow(numero) # Imprimir una imagen dada\n",
        "    print(numero) # Ver su representación en pixeles"
      ],
      "execution_count": 26,
      "outputs": [
        {
          "output_type": "stream",
          "text": [
            "[[ 0.  0. 12. 10.  0.  0.  0.  0.]\n",
            " [ 0.  0. 14. 16. 16. 14.  0.  0.]\n",
            " [ 0.  0. 13. 16. 15. 10.  1.  0.]\n",
            " [ 0.  0. 11. 16. 16.  7.  0.  0.]\n",
            " [ 0.  0.  0.  4.  7. 16.  7.  0.]\n",
            " [ 0.  0.  0.  0.  4. 16.  9.  0.]\n",
            " [ 0.  0.  5.  4. 12. 16.  4.  0.]\n",
            " [ 0.  0.  9. 16. 16. 10.  0.  0.]]\n"
          ],
          "name": "stdout"
        },
        {
          "output_type": "display_data",
          "data": {
            "text/plain": [
              "<Figure size 432x288 with 0 Axes>"
            ]
          },
          "metadata": {
            "tags": []
          }
        },
        {
          "output_type": "display_data",
          "data": {
            "image/png": "[encoded data removed]",
            "text/plain": [
              "<Figure size 288x288 with 1 Axes>"
            ]
          },
          "metadata": {
            "tags": []
          }
        }
      ]
    },
    {
      "cell_type": "code",
      "metadata": {
        "id": "PfP2juKbLOqB",
        "colab_type": "code",
        "colab": {}
      },
      "source": [
        "y = dig.target # el método nos provee las etiquetas de las imágenes en un arreglo\n",
        "predecidos=0\n",
        "FP=0\n",
        "FN=0\n",
        "VP=0\n",
        "VN=0\n",
        "\n",
        "for i in range(len(y)):\n",
        "    numero = dig.images[i]\n",
        "    for row in range(len(numero)):\n",
        "        for col in range(len(numero[row])):\n",
        "            if numero[row,col] < 10:\n",
        "                numero[row,col] = 0\n",
        "    flag=False\n",
        "    if((numero[2,4]!=0) or (numero[2,5]!=0) or (numero[5,1]!=0) or (numero[5,2]!=0)):\n",
        "        flag=True\n",
        "    total = 0\n",
        "    aciertos = 0\n",
        "    for row in range(len(numero)):\n",
        "        for col in range(len(numero[row])):\n",
        "            if(numero[row,col] > 0):\n",
        "                total+=1\n",
        "                if (row == 0) and (col in range(3,6)):\n",
        "                    aciertos+=1\n",
        "                elif (row == 1) and (col in range(2,5)):\n",
        "                    aciertos+=1\n",
        "                elif (row == 2) and (col in range(2,4)):\n",
        "                    aciertos+=1\n",
        "                elif (row == 3 or row == 4) and (col in range(2,6)):\n",
        "                    aciertos+=1\n",
        "                elif (row == 5) and (col in range(4,6)):\n",
        "                    aciertos+=1\n",
        "                elif (row == 6) and (col in range(3,6)):\n",
        "                    aciertos+=1\n",
        "                elif (row == 7) and (col in range(2,5)):\n",
        "                    aciertos+=1\n",
        "    porcen=aciertos/total*100\n",
        "    if((porcen>90) and (flag==False)):\n",
        "        if(y[i] == 5):\n",
        "            VP+=1\n",
        "        else:\n",
        "            FP+=1\n",
        "    else:\n",
        "        if(y[i] == 5):\n",
        "            FN+=1\n",
        "        else:\n",
        "            VN+=1\n"
      ],
      "execution_count": 0,
      "outputs": []
    },
    {
      "cell_type": "code",
      "metadata": {
        "id": "AIvm74wZMBz0",
        "colab_type": "code",
        "colab": {
          "base_uri": "https://localhost:8080/",
          "height": 254
        },
        "outputId": "ff13f981-d926-4c87-b452-a3924463a040"
      },
      "source": [
        "totales=VP+VN+FP+FN\n",
        "print(\"VP: \"+str(VP))\n",
        "print(\"VN: \"+str(VN))\n",
        "print(\"Falsos positivos: \"+str(FP))\n",
        "print(\"Falsos negativos: \"+str(FN))\n",
        "print()\n",
        "acc=(VP+VN)/(totales)\n",
        "print(\"Correctitud(Accuracy): \"+str(acc))\n",
        "print(\"Error de mala calificación: \"+str((FP+FN)/(totales)))\n",
        "print(\"Precisión: \"+str(VP/(VP+FP)))\n",
        "recall=VP/(VP+FN)\n",
        "print(\"Recall(TPR): \"+str(recall))\n",
        "print(\"Especificidad(TNR): \"+str(VN/(VN+FP)))\n",
        "print(\"Valor de predicción negativa(FPR): \"+str(VN/(VN+FN)))\n",
        "f1=2*(acc*recall)/(acc+recall)\n",
        "print(\"F1-measure: \"+str(f1))\n",
        "izq=((VP+FP)/totales)*((VP+FN)/totales)\n",
        "der=((VN+FN)/totales)*((FP+VN)/totales)\n",
        "AC=izq+der\n",
        "Kappa=(acc-AC)/(1-AC)\n",
        "print(\"Kappa: \"+str(Kappa))"
      ],
      "execution_count": 30,
      "outputs": [
        {
          "output_type": "stream",
          "text": [
            "VP: 65\n",
            "VN: 1595\n",
            "Falsos positivos: 20\n",
            "Falsos negativos: 117\n",
            "\n",
            "Correctitud(Accuracy): 0.9237618252643295\n",
            "Error de mala calificación: 0.07623817473567056\n",
            "Precisión: 0.7647058823529411\n",
            "Recall(TPR): 0.35714285714285715\n",
            "Especificidad(TNR): 0.9876160990712074\n",
            "Valor de predicción negativa(FPR): 0.9316588785046729\n",
            "F1-measure: 0.5151280062063616\n",
            "Kappa: 0.45152263851231694\n"
          ],
          "name": "stdout"
        }
      ]
    },
    {
      "cell_type": "markdown",
      "metadata": {
        "id": "x4qAJQB0MiLe",
        "colab_type": "text"
      },
      "source": [
        "## Con la aplicación de IA"
      ]
    },
    {
      "cell_type": "markdown",
      "metadata": {
        "id": "hyGPTzD3MKTc",
        "colab_type": "text"
      },
      "source": [
        "### KNN"
      ]
    },
    {
      "cell_type": "code",
      "metadata": {
        "id": "d8sZvkyCMO_-",
        "colab_type": "code",
        "colab": {
          "base_uri": "https://localhost:8080/",
          "height": 126
        },
        "outputId": "7d80599e-6720-44cd-b52f-9b4ba33ae342"
      },
      "source": [
        "x = np.reshape(dig.images,(len(y),64))\n",
        "ks=[1,3,5,7,9,11]\n",
        "for k in ks:\n",
        "    knn = neighbors.KNeighborsClassifier(n_neighbors=k)\n",
        "    knn.fit(x, y)\n",
        "    y_pred = knn.predict(x)\n",
        "    print(\"Con K = \", k, \", exactitud: \", metrics.accuracy_score(y, y_pred))"
      ],
      "execution_count": 36,
      "outputs": [
        {
          "output_type": "stream",
          "text": [
            "Con K =  1 , exactitud:  1.0\n",
            "Con K =  3 , exactitud:  0.9799666110183639\n",
            "Con K =  5 , exactitud:  0.9760712298274903\n",
            "Con K =  7 , exactitud:  0.9732888146911519\n",
            "Con K =  9 , exactitud:  0.9699499165275459\n",
            "Con K =  11 , exactitud:  0.9671675013912076\n"
          ],
          "name": "stdout"
        }
      ]
    },
    {
      "cell_type": "markdown",
      "metadata": {
        "id": "hHERWUQBI9rz",
        "colab_type": "text"
      },
      "source": [
        "### ANN"
      ]
    },
    {
      "cell_type": "markdown",
      "metadata": {
        "id": "HEDvQbV_lXAB",
        "colab_type": "text"
      },
      "source": [
        "Los valores objetivos van de 0 a 9. Tiene que convertirse en una representación one-hot, donde la matriz contiene todos los ceros, excepto el índice del valor que representa. Es decir, el valor 4 se representará como [0,0,0,0,1,0,0, 0,0]. Dichos problemas de clasificación multiclase deben traducirse en representaciones únicas debido a la naturaleza de la función de error (https://hackernoon.com/what-is-one-hot-encoding-why-and-when-do-you-have-to-use-it-e3c6186d008f)"
      ]
    },
    {
      "cell_type": "code",
      "metadata": {
        "id": "1okFP1jnlU6r",
        "colab_type": "code",
        "colab": {
          "base_uri": "https://localhost:8080/",
          "height": 198
        },
        "outputId": "7a8d43b8-4124-4636-c71d-0e4ccb29af35"
      },
      "source": [
        "onehot_target = pd.get_dummies(dig.target)\n",
        "onehot_target.head()"
      ],
      "execution_count": 10,
      "outputs": [
        {
          "output_type": "execute_result",
          "data": {
            "text/html": [
              "<div>\n",
              "<style scoped>\n",
              "    .dataframe tbody tr th:only-of-type {\n",
              "        vertical-align: middle;\n",
              "    }\n",
              "\n",
              "    .dataframe tbody tr th {\n",
              "        vertical-align: top;\n",
              "    }\n",
              "\n",
              "    .dataframe thead th {\n",
              "        text-align: right;\n",
              "    }\n",
              "</style>\n",
              "<table border=\"1\" class=\"dataframe\">\n",
              "  <thead>\n",
              "    <tr style=\"text-align: right;\">\n",
              "      <th></th>\n",
              "      <th>0</th>\n",
              "      <th>1</th>\n",
              "      <th>2</th>\n",
              "      <th>3</th>\n",
              "      <th>4</th>\n",
              "      <th>5</th>\n",
              "      <th>6</th>\n",
              "      <th>7</th>\n",
              "      <th>8</th>\n",
              "      <th>9</th>\n",
              "    </tr>\n",
              "  </thead>\n",
              "  <tbody>\n",
              "    <tr>\n",
              "      <th>0</th>\n",
              "      <td>1</td>\n",
              "      <td>0</td>\n",
              "      <td>0</td>\n",
              "      <td>0</td>\n",
              "      <td>0</td>\n",
              "      <td>0</td>\n",
              "      <td>0</td>\n",
              "      <td>0</td>\n",
              "      <td>0</td>\n",
              "      <td>0</td>\n",
              "    </tr>\n",
              "    <tr>\n",
              "      <th>1</th>\n",
              "      <td>0</td>\n",
              "      <td>1</td>\n",
              "      <td>0</td>\n",
              "      <td>0</td>\n",
              "      <td>0</td>\n",
              "      <td>0</td>\n",
              "      <td>0</td>\n",
              "      <td>0</td>\n",
              "      <td>0</td>\n",
              "      <td>0</td>\n",
              "    </tr>\n",
              "    <tr>\n",
              "      <th>2</th>\n",
              "      <td>0</td>\n",
              "      <td>0</td>\n",
              "      <td>1</td>\n",
              "      <td>0</td>\n",
              "      <td>0</td>\n",
              "      <td>0</td>\n",
              "      <td>0</td>\n",
              "      <td>0</td>\n",
              "      <td>0</td>\n",
              "      <td>0</td>\n",
              "    </tr>\n",
              "    <tr>\n",
              "      <th>3</th>\n",
              "      <td>0</td>\n",
              "      <td>0</td>\n",
              "      <td>0</td>\n",
              "      <td>1</td>\n",
              "      <td>0</td>\n",
              "      <td>0</td>\n",
              "      <td>0</td>\n",
              "      <td>0</td>\n",
              "      <td>0</td>\n",
              "      <td>0</td>\n",
              "    </tr>\n",
              "    <tr>\n",
              "      <th>4</th>\n",
              "      <td>0</td>\n",
              "      <td>0</td>\n",
              "      <td>0</td>\n",
              "      <td>0</td>\n",
              "      <td>1</td>\n",
              "      <td>0</td>\n",
              "      <td>0</td>\n",
              "      <td>0</td>\n",
              "      <td>0</td>\n",
              "      <td>0</td>\n",
              "    </tr>\n",
              "  </tbody>\n",
              "</table>\n",
              "</div>"
            ],
            "text/plain": [
              "   0  1  2  3  4  5  6  7  8  9\n",
              "0  1  0  0  0  0  0  0  0  0  0\n",
              "1  0  1  0  0  0  0  0  0  0  0\n",
              "2  0  0  1  0  0  0  0  0  0  0\n",
              "3  0  0  0  1  0  0  0  0  0  0\n",
              "4  0  0  0  0  1  0  0  0  0  0"
            ]
          },
          "metadata": {
            "tags": []
          },
          "execution_count": 10
        }
      ]
    },
    {
      "cell_type": "markdown",
      "metadata": {
        "id": "b9mvGZIPpQBk",
        "colab_type": "text"
      },
      "source": [
        "Se crean los data set para entrenar y evaluar el modelo"
      ]
    },
    {
      "cell_type": "code",
      "metadata": {
        "id": "ldFzhU4D4SfQ",
        "colab_type": "code",
        "colab": {
          "base_uri": "https://localhost:8080/",
          "height": 145
        },
        "outputId": "f1f46e7f-c34e-44d7-b230-dc2fd25873e6"
      },
      "source": [
        "dig.data"
      ],
      "execution_count": 11,
      "outputs": [
        {
          "output_type": "execute_result",
          "data": {
            "text/plain": [
              "array([[ 0.,  0.,  5., ...,  0.,  0.,  0.],\n",
              "       [ 0.,  0.,  0., ..., 10.,  0.,  0.],\n",
              "       [ 0.,  0.,  0., ..., 16.,  9.,  0.],\n",
              "       ...,\n",
              "       [ 0.,  0.,  1., ...,  6.,  0.,  0.],\n",
              "       [ 0.,  0.,  2., ..., 12.,  0.,  0.],\n",
              "       [ 0.,  0., 10., ..., 12.,  1.,  0.]])"
            ]
          },
          "metadata": {
            "tags": []
          },
          "execution_count": 11
        }
      ]
    },
    {
      "cell_type": "code",
      "metadata": {
        "id": "i7eEAH26os6u",
        "colab_type": "code",
        "colab": {}
      },
      "source": [
        "x_train, x_val, y_train, y_val = train_test_split(dig.data, onehot_target, test_size=0.1, random_state=20)"
      ],
      "execution_count": 0,
      "outputs": []
    },
    {
      "cell_type": "code",
      "metadata": {
        "id": "vqEmJHqRG7xb",
        "colab_type": "code",
        "colab": {
          "base_uri": "https://localhost:8080/",
          "height": 35
        },
        "outputId": "f9b515fd-59a9-4790-975d-5015adfd45b2"
      },
      "source": [
        "x_train.shape"
      ],
      "execution_count": 15,
      "outputs": [
        {
          "output_type": "execute_result",
          "data": {
            "text/plain": [
              "(1617, 64)"
            ]
          },
          "metadata": {
            "tags": []
          },
          "execution_count": 15
        }
      ]
    },
    {
      "cell_type": "markdown",
      "metadata": {
        "id": "vq3zSfD2ppfT",
        "colab_type": "text"
      },
      "source": [
        "Se crea la red neuronal"
      ]
    },
    {
      "cell_type": "code",
      "metadata": {
        "id": "P9FrsV6eka1M",
        "colab_type": "code",
        "colab": {}
      },
      "source": [
        "model = Sequential()\n",
        "model.add(Dense(128, input_dim=x_train.shape[1], activation='sigmoid'))\n",
        "model.add(Dense(128, activation='sigmoid'))\n",
        "model.add(Dense(10, activation='softmax'))\n"
      ],
      "execution_count": 0,
      "outputs": []
    },
    {
      "cell_type": "markdown",
      "metadata": {
        "id": "2Ph4R7NCsSVi",
        "colab_type": "text"
      },
      "source": [
        "#### Arquitectura de la red:\n",
        "\n",
        "![texto alternativo](https://miro.medium.com/max/840/1*o7VCg1WILHZMVoPAALKWYg.png)"
      ]
    },
    {
      "cell_type": "markdown",
      "metadata": {
        "id": "389CKSeNpwxs",
        "colab_type": "text"
      },
      "source": [
        "Resumen del modelo"
      ]
    },
    {
      "cell_type": "code",
      "metadata": {
        "id": "Nd3DGqw5kfeW",
        "colab_type": "code",
        "outputId": "fd1ed660-2390-4cc9-ec32-97d73c5231e2",
        "colab": {
          "base_uri": "https://localhost:8080/",
          "height": 254
        }
      },
      "source": [
        "\n",
        "model.summary()\n",
        "\n"
      ],
      "execution_count": 17,
      "outputs": [
        {
          "output_type": "stream",
          "text": [
            "_________________________________________________________________\n",
            "Layer (type)                 Output Shape              Param #   \n",
            "=================================================================\n",
            "dense_1 (Dense)              (None, 128)               8320      \n",
            "_________________________________________________________________\n",
            "dense_2 (Dense)              (None, 128)               16512     \n",
            "_________________________________________________________________\n",
            "dense_3 (Dense)              (None, 10)                1290      \n",
            "=================================================================\n",
            "Total params: 26,122\n",
            "Trainable params: 26,122\n",
            "Non-trainable params: 0\n",
            "_________________________________________________________________\n"
          ],
          "name": "stdout"
        }
      ]
    },
    {
      "cell_type": "code",
      "metadata": {
        "id": "_7LuJM4lkha_",
        "colab_type": "code",
        "outputId": "17aad28e-7882-4f33-b0fd-6d72a4cdadd0",
        "colab": {
          "base_uri": "https://localhost:8080/",
          "height": 1000
        }
      },
      "source": [
        "model.compile(optimizer=Adadelta(), loss='categorical_crossentropy', metrics=['categorical_accuracy'])\n",
        "model.fit(x_train, y_train, epochs=50, batch_size=64)"
      ],
      "execution_count": 18,
      "outputs": [
        {
          "output_type": "stream",
          "text": [
            "W0829 06:49:47.815242 139747023583104 deprecation_wrapper.py:119] From /usr/local/lib/python3.6/dist-packages/keras/optimizers.py:790: The name tf.train.Optimizer is deprecated. Please use tf.compat.v1.train.Optimizer instead.\n",
            "\n",
            "W0829 06:49:47.833467 139747023583104 deprecation_wrapper.py:119] From /usr/local/lib/python3.6/dist-packages/keras/backend/tensorflow_backend.py:3295: The name tf.log is deprecated. Please use tf.math.log instead.\n",
            "\n",
            "W0829 06:49:48.010564 139747023583104 deprecation.py:323] From /usr/local/lib/python3.6/dist-packages/tensorflow/python/ops/math_grad.py:1250: add_dispatch_support.<locals>.wrapper (from tensorflow.python.ops.array_ops) is deprecated and will be removed in a future version.\n",
            "Instructions for updating:\n",
            "Use tf.where in 2.0, which has the same broadcast rule as np.where\n",
            "W0829 06:49:48.127682 139747023583104 deprecation_wrapper.py:119] From /usr/local/lib/python3.6/dist-packages/keras/backend/tensorflow_backend.py:986: The name tf.assign_add is deprecated. Please use tf.compat.v1.assign_add instead.\n",
            "\n"
          ],
          "name": "stderr"
        },
        {
          "output_type": "stream",
          "text": [
            "Epoch 1/50\n",
            "1617/1617 [==============================] - 1s 500us/step - loss: 2.0015 - categorical_accuracy: 0.5170\n",
            "Epoch 2/50\n",
            "1617/1617 [==============================] - 0s 32us/step - loss: 1.3308 - categorical_accuracy: 0.8472\n",
            "Epoch 3/50\n",
            "1617/1617 [==============================] - 0s 30us/step - loss: 0.8535 - categorical_accuracy: 0.9103\n",
            "Epoch 4/50\n",
            "1617/1617 [==============================] - 0s 30us/step - loss: 0.5797 - categorical_accuracy: 0.9363\n",
            "Epoch 5/50\n",
            "1617/1617 [==============================] - 0s 32us/step - loss: 0.4221 - categorical_accuracy: 0.9505\n",
            "Epoch 6/50\n",
            "1617/1617 [==============================] - 0s 36us/step - loss: 0.3226 - categorical_accuracy: 0.9604\n",
            "Epoch 7/50\n",
            "1617/1617 [==============================] - 0s 30us/step - loss: 0.2568 - categorical_accuracy: 0.9709\n",
            "Epoch 8/50\n",
            "1617/1617 [==============================] - 0s 33us/step - loss: 0.2100 - categorical_accuracy: 0.9716\n",
            "Epoch 9/50\n",
            "1617/1617 [==============================] - 0s 37us/step - loss: 0.1769 - categorical_accuracy: 0.9753\n",
            "Epoch 10/50\n",
            "1617/1617 [==============================] - 0s 30us/step - loss: 0.1505 - categorical_accuracy: 0.9790\n",
            "Epoch 11/50\n",
            "1617/1617 [==============================] - 0s 32us/step - loss: 0.1301 - categorical_accuracy: 0.9796\n",
            "Epoch 12/50\n",
            "1617/1617 [==============================] - 0s 30us/step - loss: 0.1138 - categorical_accuracy: 0.9827\n",
            "Epoch 13/50\n",
            "1617/1617 [==============================] - 0s 36us/step - loss: 0.0994 - categorical_accuracy: 0.9827\n",
            "Epoch 14/50\n",
            "1617/1617 [==============================] - 0s 28us/step - loss: 0.0878 - categorical_accuracy: 0.9870\n",
            "Epoch 15/50\n",
            "1617/1617 [==============================] - 0s 42us/step - loss: 0.0788 - categorical_accuracy: 0.9882\n",
            "Epoch 16/50\n",
            "1617/1617 [==============================] - 0s 29us/step - loss: 0.0690 - categorical_accuracy: 0.9920\n",
            "Epoch 17/50\n",
            "1617/1617 [==============================] - 0s 41us/step - loss: 0.0624 - categorical_accuracy: 0.9920\n",
            "Epoch 18/50\n",
            "1617/1617 [==============================] - 0s 42us/step - loss: 0.0554 - categorical_accuracy: 0.9938\n",
            "Epoch 19/50\n",
            "1617/1617 [==============================] - 0s 60us/step - loss: 0.0515 - categorical_accuracy: 0.9944\n",
            "Epoch 20/50\n",
            "1617/1617 [==============================] - 0s 64us/step - loss: 0.0473 - categorical_accuracy: 0.9951\n",
            "Epoch 21/50\n",
            "1617/1617 [==============================] - 0s 39us/step - loss: 0.0425 - categorical_accuracy: 0.9975\n",
            "Epoch 22/50\n",
            "1617/1617 [==============================] - 0s 30us/step - loss: 0.0390 - categorical_accuracy: 0.9963\n",
            "Epoch 23/50\n",
            "1617/1617 [==============================] - 0s 31us/step - loss: 0.0359 - categorical_accuracy: 0.9969\n",
            "Epoch 24/50\n",
            "1617/1617 [==============================] - 0s 34us/step - loss: 0.0324 - categorical_accuracy: 0.9975\n",
            "Epoch 25/50\n",
            "1617/1617 [==============================] - 0s 33us/step - loss: 0.0305 - categorical_accuracy: 0.9975\n",
            "Epoch 26/50\n",
            "1617/1617 [==============================] - 0s 32us/step - loss: 0.0271 - categorical_accuracy: 0.9981\n",
            "Epoch 27/50\n",
            "1617/1617 [==============================] - 0s 31us/step - loss: 0.0262 - categorical_accuracy: 0.9981\n",
            "Epoch 28/50\n",
            "1617/1617 [==============================] - 0s 34us/step - loss: 0.0235 - categorical_accuracy: 0.9981\n",
            "Epoch 29/50\n",
            "1617/1617 [==============================] - 0s 32us/step - loss: 0.0218 - categorical_accuracy: 0.9988\n",
            "Epoch 30/50\n",
            "1617/1617 [==============================] - 0s 35us/step - loss: 0.0204 - categorical_accuracy: 0.9988\n",
            "Epoch 31/50\n",
            "1617/1617 [==============================] - 0s 34us/step - loss: 0.0190 - categorical_accuracy: 0.9988\n",
            "Epoch 32/50\n",
            "1617/1617 [==============================] - 0s 43us/step - loss: 0.0179 - categorical_accuracy: 0.9988\n",
            "Epoch 33/50\n",
            "1617/1617 [==============================] - 0s 42us/step - loss: 0.0165 - categorical_accuracy: 0.9988\n",
            "Epoch 34/50\n",
            "1617/1617 [==============================] - 0s 55us/step - loss: 0.0149 - categorical_accuracy: 0.9988\n",
            "Epoch 35/50\n",
            "1617/1617 [==============================] - 0s 45us/step - loss: 0.0141 - categorical_accuracy: 0.9994\n",
            "Epoch 36/50\n",
            "1617/1617 [==============================] - 0s 33us/step - loss: 0.0131 - categorical_accuracy: 0.9994\n",
            "Epoch 37/50\n",
            "1617/1617 [==============================] - 0s 32us/step - loss: 0.0123 - categorical_accuracy: 1.0000\n",
            "Epoch 38/50\n",
            "1617/1617 [==============================] - 0s 34us/step - loss: 0.0116 - categorical_accuracy: 0.9994\n",
            "Epoch 39/50\n",
            "1617/1617 [==============================] - 0s 41us/step - loss: 0.0104 - categorical_accuracy: 1.0000\n",
            "Epoch 40/50\n",
            "1617/1617 [==============================] - 0s 33us/step - loss: 0.0102 - categorical_accuracy: 1.0000\n",
            "Epoch 41/50\n",
            "1617/1617 [==============================] - 0s 33us/step - loss: 0.0093 - categorical_accuracy: 1.0000\n",
            "Epoch 42/50\n",
            "1617/1617 [==============================] - 0s 33us/step - loss: 0.0087 - categorical_accuracy: 1.0000\n",
            "Epoch 43/50\n",
            "1617/1617 [==============================] - 0s 33us/step - loss: 0.0081 - categorical_accuracy: 1.0000\n",
            "Epoch 44/50\n",
            "1617/1617 [==============================] - 0s 32us/step - loss: 0.0077 - categorical_accuracy: 1.0000\n",
            "Epoch 45/50\n",
            "1617/1617 [==============================] - 0s 32us/step - loss: 0.0073 - categorical_accuracy: 1.0000\n",
            "Epoch 46/50\n",
            "1617/1617 [==============================] - 0s 31us/step - loss: 0.0067 - categorical_accuracy: 1.0000\n",
            "Epoch 47/50\n",
            "1617/1617 [==============================] - 0s 40us/step - loss: 0.0062 - categorical_accuracy: 1.0000\n",
            "Epoch 48/50\n",
            "1617/1617 [==============================] - 0s 34us/step - loss: 0.0060 - categorical_accuracy: 1.0000\n",
            "Epoch 49/50\n",
            "1617/1617 [==============================] - 0s 33us/step - loss: 0.0058 - categorical_accuracy: 1.0000\n",
            "Epoch 50/50\n",
            "1617/1617 [==============================] - 0s 33us/step - loss: 0.0053 - categorical_accuracy: 1.0000\n"
          ],
          "name": "stdout"
        },
        {
          "output_type": "execute_result",
          "data": {
            "text/plain": [
              "<keras.callbacks.History at 0x7f19218866a0>"
            ]
          },
          "metadata": {
            "tags": []
          },
          "execution_count": 18
        }
      ]
    },
    {
      "cell_type": "code",
      "metadata": {
        "id": "CFBVkNuTkmGE",
        "colab_type": "code",
        "outputId": "041e5f31-e5f1-45fc-c7a8-b45f7f981383",
        "colab": {
          "base_uri": "https://localhost:8080/",
          "height": 72
        }
      },
      "source": [
        "scores = model.evaluate(x_val, y_val)\n",
        "print(\"\\n%s: %.2f%%\" % (model.metrics_names[1], scores[1]*100))"
      ],
      "execution_count": 19,
      "outputs": [
        {
          "output_type": "stream",
          "text": [
            "180/180 [==============================] - 0s 282us/step\n",
            "\n",
            "categorical_accuracy: 98.33%\n"
          ],
          "name": "stdout"
        }
      ]
    }
  ]
}