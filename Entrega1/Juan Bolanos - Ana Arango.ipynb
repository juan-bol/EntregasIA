{
 "cells": [
  {
   "cell_type": "markdown",
   "metadata": {},
   "source": [
    "# Python Exercises, practice  \n",
    "\n",
    "\n",
    "+ __Student 1:__ Juan Bolaños\n",
    "+ __Student 2:__ Ana Arango"
   ]
  },
  {
   "cell_type": "markdown",
   "metadata": {},
   "source": [
    "__1 exercise__\n",
    "\n",
    "print hello world"
   ]
  },
  {
   "cell_type": "code",
   "execution_count": 1,
   "metadata": {},
   "outputs": [
    {
     "name": "stdout",
     "output_type": "stream",
     "text": [
      "Hello world\n"
     ]
    }
   ],
   "source": [
    "print(\"Hello world\")"
   ]
  },
  {
   "cell_type": "markdown",
   "metadata": {},
   "source": [
    "__2 exercise__\n",
    "\n",
    "Let's create a variable with the name _variable_ and assign it the value \"hello world\"."
   ]
  },
  {
   "cell_type": "code",
   "execution_count": 2,
   "metadata": {},
   "outputs": [],
   "source": [
    "name_variable = \"Hello world\""
   ]
  },
  {
   "cell_type": "markdown",
   "metadata": {},
   "source": [
    "__3 exercise__\n",
    "\n",
    "Print the type of _variable_"
   ]
  },
  {
   "cell_type": "code",
   "execution_count": 3,
   "metadata": {},
   "outputs": [
    {
     "data": {
      "text/plain": [
       "str"
      ]
     },
     "execution_count": 3,
     "metadata": {},
     "output_type": "execute_result"
    }
   ],
   "source": [
    "type(name_variable)"
   ]
  },
  {
   "cell_type": "markdown",
   "metadata": {},
   "source": [
    "__4 exercise__\n",
    "\n",
    "Let's remove the word \" world\" from _variable_"
   ]
  },
  {
   "cell_type": "code",
   "execution_count": 4,
   "metadata": {},
   "outputs": [
    {
     "data": {
      "text/plain": [
       "'Hello '"
      ]
     },
     "execution_count": 4,
     "metadata": {},
     "output_type": "execute_result"
    }
   ],
   "source": [
    "name_variable.replace(\"world\",\"\")"
   ]
  },
  {
   "cell_type": "markdown",
   "metadata": {},
   "source": [
    "__2 exercise__\n",
    "\n",
    "Let's make a function which receives a list of number from 1 to 20 and prints only the number that are odd."
   ]
  },
  {
   "cell_type": "code",
   "execution_count": 5,
   "metadata": {},
   "outputs": [
    {
     "name": "stdout",
     "output_type": "stream",
     "text": [
      "2\n",
      "4\n",
      "6\n",
      "8\n",
      "10\n",
      "12\n",
      "14\n",
      "16\n",
      "18\n",
      "20\n"
     ]
    }
   ],
   "source": [
    "def odds(lista):\n",
    "    for i in range(len(lista)):\n",
    "        if((lista[i]%2)==0):\n",
    "            print(str(lista[i]))\n",
    "lista=range(1,21)\n",
    "odds(lista)"
   ]
  },
  {
   "cell_type": "markdown",
   "metadata": {},
   "source": [
    "__3 exercise__\n",
    "\n",
    "Let's make a method in a Python file which receives two parameters:\n",
    "\n",
    "+ A list of integers \n",
    "+ An exponent number \n",
    "\n",
    "$b^{n} = b \\times \\dots \\times b$  \n",
    "\n",
    "The method allows us to calculate the exponentiation of each number in the list.\n",
    "\n",
    "We must import the file and use it to call the method"
   ]
  },
  {
   "cell_type": "code",
   "execution_count": 6,
   "metadata": {},
   "outputs": [],
   "source": [
    "from tools import exp"
   ]
  },
  {
   "cell_type": "code",
   "execution_count": 7,
   "metadata": {},
   "outputs": [
    {
     "name": "stdout",
     "output_type": "stream",
     "text": [
      "1\n",
      "4\n",
      "9\n",
      "16\n",
      "25\n",
      "36\n",
      "49\n",
      "64\n",
      "81\n",
      "100\n",
      "121\n",
      "144\n",
      "169\n",
      "196\n",
      "225\n",
      "256\n",
      "289\n",
      "324\n",
      "361\n",
      "400\n"
     ]
    }
   ],
   "source": [
    "exp(lista,2)"
   ]
  },
  {
   "cell_type": "markdown",
   "metadata": {},
   "source": [
    "__4 exercise__\n",
    "\n",
    "The idea is to do a dictionary _diccionario_ with the next keys and values:\n",
    "\n",
    "_variableUno_: [1,2,3,4]\n",
    "\n",
    "_variableDos_: [\"1\",\"a\",\"?\"]\n"
   ]
  },
  {
   "cell_type": "code",
   "execution_count": 8,
   "metadata": {},
   "outputs": [],
   "source": [
    "diccionario={\"variableUno\":[1,2,3,4], \"variableDos\":[\"1\",\"a\",\"?\"]}"
   ]
  },
  {
   "cell_type": "markdown",
   "metadata": {},
   "source": [
    "__5 exercise__\n",
    "\n",
    "Change the first letter of \"Spam\" to \"z\" "
   ]
  },
  {
   "cell_type": "code",
   "execution_count": 9,
   "metadata": {},
   "outputs": [
    {
     "data": {
      "text/plain": [
       "'zpam'"
      ]
     },
     "execution_count": 9,
     "metadata": {},
     "output_type": "execute_result"
    }
   ],
   "source": [
    "word=\"Spam\"\n",
    "word = word.replace(\"S\",\"z\")\n",
    "word"
   ]
  },
  {
   "cell_type": "markdown",
   "metadata": {},
   "source": [
    "__6 exercise__\n",
    "\n",
    "let's do a program which receives some parameters in order to calculate the perimeter of a rectangle.\n",
    "\n",
    "$p = 2x + 2y$"
   ]
  },
  {
   "cell_type": "code",
   "execution_count": 11,
   "metadata": {},
   "outputs": [
    {
     "name": "stdout",
     "output_type": "stream",
     "text": [
      "Ingrese el valor de x 2\n",
      "Ingrese el valor de y 2\n"
     ]
    },
    {
     "data": {
      "text/plain": [
       "8"
      ]
     },
     "execution_count": 11,
     "metadata": {},
     "output_type": "execute_result"
    }
   ],
   "source": [
    "x = input(\"Ingrese el valor de x \")\n",
    "y = input(\"Ingrese el valor de y \")\n",
    "p=2*(int(x)+int(y))\n",
    "p"
   ]
  },
  {
   "cell_type": "markdown",
   "metadata": {},
   "source": [
    "__7 exercise__\n",
    "\n",
    "+ Create a class that saves the name of a person, his height in meters and weights in kilograms.\n",
    "+ This class must have a operation which calculate the Body mass index (BMI).\n",
    "+ Define a list of 5 persons and print their BMI. "
   ]
  },
  {
   "cell_type": "code",
   "execution_count": 23,
   "metadata": {},
   "outputs": [],
   "source": [
    "import math \n",
    "\n",
    "class Person(object):\n",
    "    \n",
    "    def __init__(self,n,h,w):\n",
    "        self.name = n\n",
    "        self.height = h\n",
    "        self.weight = w\n",
    "    \n",
    "    def get_BMI(self):\n",
    "        bmi = self.weight / (self.height*self.height)\n",
    "        return bmi"
   ]
  },
  {
   "cell_type": "code",
   "execution_count": 28,
   "metadata": {},
   "outputs": [
    {
     "name": "stdout",
     "output_type": "stream",
     "text": [
      "Juan: 24.221453287197235\n",
      "David: 22.857142857142858\n",
      "Bolaños: 25.71166207529844\n",
      "Revelo: 25.95155709342561\n",
      "Daniela: 23.437499999999996\n"
     ]
    }
   ],
   "source": [
    "personas = [Person(\"Juan\",1.7,70),Person(\"David\",1.75,70),\n",
    "            Person(\"Bolaños\",1.65,70),Person(\"Revelo\",1.7,75),Person(\"Daniela\",1.6,60)]\n",
    "for i in range(len(personas)):\n",
    "    print(personas[i].name+\": \"+str(personas[i].get_BMI()))"
   ]
  },
  {
   "cell_type": "markdown",
   "metadata": {},
   "source": [
    "__8 exercise__\n",
    "\n",
    "make a program that prints the numbers from 1 to 100\n",
    "If the number is divisible by 2 then print \"whiz\"\n",
    "if the number is divisible by 3 then print \"bang\""
   ]
  },
  {
   "cell_type": "code",
   "execution_count": 30,
   "metadata": {},
   "outputs": [
    {
     "name": "stdout",
     "output_type": "stream",
     "text": [
      "1\n",
      "whiz\n",
      "bang\n",
      "whiz\n",
      "5\n",
      "whiz\n",
      "7\n",
      "whiz\n",
      "bang\n",
      "whiz\n",
      "11\n",
      "whiz\n",
      "13\n",
      "whiz\n",
      "bang\n",
      "whiz\n",
      "17\n",
      "whiz\n",
      "19\n",
      "whiz\n",
      "bang\n",
      "whiz\n",
      "23\n",
      "whiz\n",
      "25\n",
      "whiz\n",
      "bang\n",
      "whiz\n",
      "29\n",
      "whiz\n",
      "31\n",
      "whiz\n",
      "bang\n",
      "whiz\n",
      "35\n",
      "whiz\n",
      "37\n",
      "whiz\n",
      "bang\n",
      "whiz\n",
      "41\n",
      "whiz\n",
      "43\n",
      "whiz\n",
      "bang\n",
      "whiz\n",
      "47\n",
      "whiz\n",
      "49\n",
      "whiz\n",
      "bang\n",
      "whiz\n",
      "53\n",
      "whiz\n",
      "55\n",
      "whiz\n",
      "bang\n",
      "whiz\n",
      "59\n",
      "whiz\n",
      "61\n",
      "whiz\n",
      "bang\n",
      "whiz\n",
      "65\n",
      "whiz\n",
      "67\n",
      "whiz\n",
      "bang\n",
      "whiz\n",
      "71\n",
      "whiz\n",
      "73\n",
      "whiz\n",
      "bang\n",
      "whiz\n",
      "77\n",
      "whiz\n",
      "79\n",
      "whiz\n",
      "bang\n",
      "whiz\n",
      "83\n",
      "whiz\n",
      "85\n",
      "whiz\n",
      "bang\n",
      "whiz\n",
      "89\n",
      "whiz\n",
      "91\n",
      "whiz\n",
      "bang\n",
      "whiz\n",
      "95\n",
      "whiz\n",
      "97\n",
      "whiz\n",
      "bang\n",
      "whiz\n"
     ]
    }
   ],
   "source": [
    "for i in range(1,101):\n",
    "    if i%2==0:\n",
    "        print('whiz')\n",
    "    elif i%3==0:\n",
    "        print('bang')\n",
    "    else:\n",
    "        print (i)"
   ]
  }
 ],
 "metadata": {
  "kernelspec": {
   "display_name": "Python 3",
   "language": "python",
   "name": "python3"
  },
  "language_info": {
   "codemirror_mode": {
    "name": "ipython",
    "version": 3
   },
   "file_extension": ".py",
   "mimetype": "text/x-python",
   "name": "python",
   "nbconvert_exporter": "python",
   "pygments_lexer": "ipython3",
   "version": "3.7.1"
  }
 },
 "nbformat": 4,
 "nbformat_minor": 2
}
